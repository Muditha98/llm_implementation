{
 "cells": [
  {
   "cell_type": "markdown",
   "metadata": {
    "vscode": {
     "languageId": "plaintext"
    }
   },
   "source": [
    "### Simple GenAI app using Langchain"
   ]
  },
  {
   "cell_type": "code",
   "execution_count": 34,
   "metadata": {},
   "outputs": [],
   "source": [
    "import os\n",
    "from dotenv import load_dotenv\n",
    "load_dotenv()\n",
    "\n",
    "## Langsmith Tracking\n",
    "os.environ[\"LANGCHAIN_API_KEY\"]=os.getenv(\"LANGCHAIN_API_KEY\")\n",
    "os.environ[\"LANGCHAIN_TRACING_V2\"]=\"true\"\n",
    "os.environ[\"LANGCHAIN_PROJECT\"]=os.getenv(\"LANGCHAIN_PROJECT\")"
   ]
  },
  {
   "cell_type": "code",
   "execution_count": 37,
   "metadata": {},
   "outputs": [],
   "source": [
    "## Data Ingestion--> From the website we need to scrape the data\n",
    "from langchain_community.document_loaders import WebBaseLoader\n",
    "import bs4"
   ]
  },
  {
   "cell_type": "code",
   "execution_count": 86,
   "metadata": {},
   "outputs": [
    {
     "data": {
      "text/plain": [
       "<langchain_community.document_loaders.web_base.WebBaseLoader at 0x129a5f19720>"
      ]
     },
     "execution_count": 86,
     "metadata": {},
     "output_type": "execute_result"
    }
   ],
   "source": [
    "loader=WebBaseLoader(\"https://www.enadoc.com/blogs/everything-you-need-to-know-about-enadoc-evia-sign/\")\n",
    "loader"
   ]
  },
  {
   "cell_type": "code",
   "execution_count": 87,
   "metadata": {},
   "outputs": [
    {
     "data": {
      "text/plain": [
       "[Document(metadata={'source': 'https://www.enadoc.com/blogs/everything-you-need-to-know-about-enadoc-evia-sign/', 'title': 'Everything you need to know about Enadoc Evia Sign - Enadoc', 'description': 'Legality, Compliance, Security. Streamline document signing with confidence, ensuring legal validity and data protection.', 'language': 'en-US'}, page_content=\"   Everything you need to know about Enadoc Evia Sign - Enadoc      Skip to content  Login to Evia Sign              Our Solutions        Digital and E-signature       Enterprise Content Management       Business Process Automation       Outsourced Scanning Services    Industries    Roles    Be a Partner   In business, we use “electronic” and “digital” signatures synonymously. However, this may not be correct for all applications.   LEARN MORE      Products Products    Sign   Automate   Archive   Document Management System (DMS)   Business Process Automation   Outsourced Scanning Services  About Enadoc        Our Purpose       Testimonial       Awards    Explore Careers    Our Executives   Enadoc, a leading technology company specializing in document management solutions, is thrilled to announce its recertification as a Great Place to Work. This prestigious recognition is a testament to Enadoc’s commitment to creating a positive and engaging work environment for its employees.   LEARN MORE      Content Hub        Events       News       Blogs       Roles and Industries       Resources       Video   Knowing more about digital signatures could help you decide to improve your processes. Today, innovative digital signature solutions give evidence of their advantages, legality, and validity.\\xa0   LEARN MORE      Plans and Pricing  Login to Evia Sign  Talk to us TRY FOR FREE BUY NOW Blogs        Everything you need to know about Enadoc Evia Sign                 June 27, 2023 Legality, Compliances, and Security with Enadoc Evia SignEvia Sign is a digital signature platform that enables users to securely send and sign electronic documents. With its intuitive user interface and smart features, the platform ensures a seamless experience throughout the process.The purpose of this article is to highlight the key aspects of\\xa0Evia Sign’s\\xa0legality and compliance and cover some of the most encountered questionnaires concerning platform security. It aims to emphasize how Evia Sign is well-suited for your organization and how it maintains relevant regulations and industry standards.\\xa0Let’s get started!\\xa0Evia Sign and its compliance statusAs many businesses adhere to the concept of Industry 4.0, digitalization is the new normal of the era for running day-to-day business workflows with proven records of enhanced organizational productivity and efficiency, saving money and time while going green!\\xa0Evia Sign\\xa0is one such digital solution that provides advanced digital signatures, so you sign documents on the go with a seamless experience that’s also compliant and secure.\\xa0In Evia Sign, documents that have been digitally certified are those that are electronically signed using an AATL-compliant certificate. When a document gets signed and completed using Evia Sign by all the relevant signatories, it will be sealed with a digital certificate issued by the trusted third party, “GlobalSign,” a reputed organization that serves as a custom CA (Certificate Authority), and Evia Sign is certified by them. This digital certification seals and shields the electronic document from unauthorized alterations. If any such unauthorized modifications occur to the document, employing a popular pdf tool such as Acrobat Reader will instantly detect it and alert the user. The role of digital certificateIf your next question is, what it means to be compliant with GlobalSign’s digital certificate, we’ve got the answer ready for you!\\xa0Once you have implemented the\\xa0Evia Sign\\xa0digital signing solution into your existing workflows, you can conveniently obtain the digital certificate from GlobalSign (after completing the identity verification processes). The digital certificate will then seal the electronic document once it is completed with the signatures from all the signatories in the document, making it tamper-evident.\\xa0Benefits included:\\xa0·\\xa0Globally recognized and trusted source:\\xa0GlobalSign is part of the Adobe Approved Trust List (AATL), which means it is a trusted Certificate Authority (CA) approved by Adobe. This makes their digital certificates automatically trusted by Adobe software, including Adobe Acrobat and Adobe Reader.· Create trusted digital signatures to efficiently complete routine business workflows.·\\xa0PKI-based framework:\\xa0this means that Evia Sign digital signatures can provide enhanced confidence, credibility, and preservation of document integrity and signer’s identity validation.·\\xa0Third-Party Timestamping:\\xa0GlobalSign document signing certificates ensure that all digital signatures applied incorporate a trusted RFC 3161-compliant timestamp. Evia Sign and its PKI structure:Evia Sign\\xa0utilizes Public Key Infrastructure (PKI) technology to establish secure communication and authenticate digital transactions through public key cryptography and digital certificates.\\xa0When a document is fully signed by the relevant signatories on the Evia Sign platform, it is sealed with a GlobalSign digital certificate. This process guarantees the integrity of the signed documents, making them tamper-evident, trustworthy, and legally valid. The implementation of PKI infrastructure by Evia Sign plays a pivotal role in establishing trust and security in the e-signing process.\\xa0Multi-factor authentication of Evia Sign for enhanced security\\xa0First Factor Authentication:\\xa0This is achieved in\\xa0Evia Sign\\xa0in two ways:\\xa0·\\xa0User Login Credentials:\\xa0This consists of the user’s login credentials validated by Evia Sign’s authentication system against the stored user data to ensure the correctness of the provided information.\\xa0·\\xa0Login via O365 account:\\xa0This consists of secure integration of Evia Sign with your existing o365 account, and with the required permissions granted and successful authorization, users can directly log into Evia Sign using their O365 account.\\xa0Second Factor Authentication:\\xa0Evia Sign adds an additional layer of protection to ensure that only authorized individuals or intended signatories can access or sign the document via multi-factor authentication using OTP / Access code.\\xa0This comprises a temporary OTP generated by the system / predefined password that provides access to the document, enhancing security and mitigating the risks of unauthorized access.\\xa0In the third step of the signature request process, the setting up of the OTP / Access Code can be enabled, where the signature requester can select the signatory, set up the OTP / Access Code, and securely deliver it through a pre-defined method — SMS or email. The successful validation of the OTP serves as the second factor of authentication, further confirming the user’s identity and authorizing access to the document and sensitive action, such as placing a digital signature.\\xa0The way forward in the legality and compliance lane of Evia Sign\\xa0Evia Sign qualifies as an Advanced Electronic Signature (AES) in the three-tiered e-signature types identified by the eIDAS regulation passed by the European Commission in 2014 — Due to its incorporation of the digital certificate from GlobalSign, a trusted third-party source, within the application.\\xa0The types of e-signatures and eIDAS requirements:\\xa0Simple Electronic Signatures (SES):\\xa0These signatures don’t require ID verification from the signatory. They are the most basic form of electronic signatures and provide a low level of assurance.\\xa0Advanced Electronic Signatures (AES):\\xa0AES requires ID verification. It adds an extra layer of confidence by verifying the identity of the signatory and enhancing the integrity of the electronic document, making it more reliable than simple signatures. This added level of authentication and verification enhances the overall security and reliability of the signed documents, providing increased assurance to the parties involved in the transaction.\\xa0Qualified Electronic Signatures (QES):\\xa0QES requires face-to-face ID verification — in person or through video chat. It provides the highest level of assurance for the signatory. However, due to the need for in-person verification, QES entails additional technical and procedural requirements to ensure its validity and reliability.\\xa0Currently, when a signatory receives a document through Evia Sign, they can conveniently sign it using the advanced electronic signature (AES) certificate provided in the Evia Sign digital platform. This streamlined process improves department-level signature workflows, enhancing the productivity and efficiency of business approval processes.\\xa0Moreover, by eliminating the risk of missed signatures and embracing a paperless approach, the overall signing experience is elevated, providing added convenience and effectiveness.\\xa0The Future Scope of Evia Sign\\xa0As a futuristic approach toward legal compliance, Evia Sign is exploring the incorporation of additional pathways for Advanced Electronic Signatures. This would involve allowing the signature requesters to specify whether signatories can use their personal certificates, such as smart cards, for signing purposes.\\xa0By offering this flexibility, Evia Sign aims to provide the signatories with more options for authentication while still maintaining compliance with legal standards.\\xa0Now that you know all about Evia Sign on legality, compliance, and security aspects, it’s time to dive into the experience it offers!\\xa0Go green with\\xa0Evia Sign!\\xa0Try Enadoc Evia Sign for FREE.WHAT'S LATEST?     Blogs                  What it means to be ISO digital and secure in 2024  January 29, 2024 Hey Business Trailblazers! Enadoc just hit a major security home run! We’re now proudly holding the ISO 27001:2022 certification! Now, your business can ride the digital wave with an extra layer of security, and we’re here to spill the beans on how it benefits you! ISO 27001:2022 certification,\\xa0 this accreditation not only exemplifies Enadoc’s dedication […] Learn More     Blogs                  Everything you need to know about Enadoc Evia Sign  June 27, 2023 Legality, Compliances, and Security with Enadoc Evia Sign Evia Sign is a digital signature platform that enables users to securely send and sign electronic documents. With its intuitive user interface and smart features, the platform ensures a seamless experience throughout the process. The purpose of this article is to highlight the key aspects of\\xa0Evia Sign’s\\xa0legality […] Learn MoreRELATED ARTICLES     Blogs                  Discover the difference: Electronic and Digital SignaturesJune 5, 2023In this digital era, signatures are no longer limited to pen-paper. Electronic and digital signatures have become popular alternatives to traditional signatures, but what are the differences? Electronic signatures and digital signatures serve as essential tools for document signing in the digital age. While both types have their advantages, it’s crucial to understand the differences […] Learn More     Blogs                  Digital signatures on promoting environmental sustainability?May 31, 2023In today’s world, environmental sustainability is a critical concern for businesses and individuals alike. One area where digital technology can significantly impact is the use of digital signatures. This article will cover how digital signatures can help promote environmental sustainability. E-signature eliminates paper based\\xa0 documents Firstly, the use of digital signatures eliminates the need for […] Learn More  Copyright 2022. Enadoc. All rights reserved.ABOUT USOur PurposeOur ExecutivesCareersSOLUTIONSDigital SignatureEnterprise Content ManagementBusiness Process AutomationDigitization ServicesPRODUCTSEvia SignEvia ArchiveEvia AutomateEnadoc ECMFlowdohOutsourced Scanning ServiceCONTENT HUBEventsBlogsNewsVideosResourcesRoles and IndustriesPLANS AND PRICINGEvia SignBECOME A PARTNEROverview                     Privacy Policy Terms of use About Enadoc content hub Solutions talk to us Products Become a Partner Plans and Pricing                     Copyright 2022. Enadoc. All rights reserved. Privacy Policy Terms of useThank You for Getting in Touch!We appreciate you contacting us.One of our account managers will get in touch with you soon. or you may also reach us at lisa@enadoc.com Have a great day!LisaThank you!A download link was sent to your email.   OK                      \")]"
      ]
     },
     "execution_count": 87,
     "metadata": {},
     "output_type": "execute_result"
    }
   ],
   "source": [
    "docs=loader.load()\n",
    "docs"
   ]
  },
  {
   "cell_type": "code",
   "execution_count": 88,
   "metadata": {},
   "outputs": [],
   "source": [
    "## Load data--> Docs--> Split into chunk docs--> text--> Vectors-->Vector embeddings--> VectorStoreDB\n",
    "\n",
    "from langchain_text_splitters import RecursiveCharacterTextSplitter\n",
    "text_splitter=RecursiveCharacterTextSplitter(chunk_size=1000,chunk_overlap=200)\n",
    "documents=text_splitter.split_documents(docs)"
   ]
  },
  {
   "cell_type": "code",
   "execution_count": 89,
   "metadata": {},
   "outputs": [
    {
     "data": {
      "text/plain": [
       "[Document(metadata={'source': 'https://www.enadoc.com/blogs/everything-you-need-to-know-about-enadoc-evia-sign/', 'title': 'Everything you need to know about Enadoc Evia Sign - Enadoc', 'description': 'Legality, Compliance, Security. Streamline document signing with confidence, ensuring legal validity and data protection.', 'language': 'en-US'}, page_content='Everything you need to know about Enadoc Evia Sign - Enadoc      Skip to content  Login to Evia Sign              Our Solutions        Digital and E-signature       Enterprise Content Management       Business Process Automation       Outsourced Scanning Services    Industries    Roles    Be a Partner   In business, we use “electronic” and “digital” signatures synonymously. However, this may not be correct for all applications.   LEARN MORE      Products Products    Sign   Automate   Archive   Document Management System (DMS)   Business Process Automation   Outsourced Scanning Services  About Enadoc        Our Purpose       Testimonial       Awards    Explore Careers    Our Executives   Enadoc, a leading technology company specializing in document management solutions, is thrilled to announce its recertification as a Great Place to Work. This prestigious recognition is a testament to Enadoc’s commitment to creating a positive and engaging work environment for its employees.   LEARN'),\n",
       " Document(metadata={'source': 'https://www.enadoc.com/blogs/everything-you-need-to-know-about-enadoc-evia-sign/', 'title': 'Everything you need to know about Enadoc Evia Sign - Enadoc', 'description': 'Legality, Compliance, Security. Streamline document signing with confidence, ensuring legal validity and data protection.', 'language': 'en-US'}, page_content='its recertification as a Great Place to Work. This prestigious recognition is a testament to Enadoc’s commitment to creating a positive and engaging work environment for its employees.   LEARN MORE      Content Hub        Events       News       Blogs       Roles and Industries       Resources       Video   Knowing more about digital signatures could help you decide to improve your processes. Today, innovative digital signature solutions give evidence of their advantages, legality, and validity.\\xa0   LEARN MORE      Plans and Pricing  Login to Evia Sign  Talk to us TRY FOR FREE BUY NOW Blogs        Everything you need to know about Enadoc Evia Sign                 June 27, 2023 Legality, Compliances, and Security with Enadoc Evia SignEvia Sign is a digital signature platform that enables users to securely send and sign electronic documents. With its intuitive user interface and smart features, the platform ensures a seamless experience throughout the process.The purpose of this article'),\n",
       " Document(metadata={'source': 'https://www.enadoc.com/blogs/everything-you-need-to-know-about-enadoc-evia-sign/', 'title': 'Everything you need to know about Enadoc Evia Sign - Enadoc', 'description': 'Legality, Compliance, Security. Streamline document signing with confidence, ensuring legal validity and data protection.', 'language': 'en-US'}, page_content='to securely send and sign electronic documents. With its intuitive user interface and smart features, the platform ensures a seamless experience throughout the process.The purpose of this article is to highlight the key aspects of\\xa0Evia Sign’s\\xa0legality and compliance and cover some of the most encountered questionnaires concerning platform security. It aims to emphasize how Evia Sign is well-suited for your organization and how it maintains relevant regulations and industry standards.\\xa0Let’s get started!\\xa0Evia Sign and its compliance statusAs many businesses adhere to the concept of Industry 4.0, digitalization is the new normal of the era for running day-to-day business workflows with proven records of enhanced organizational productivity and efficiency, saving money and time while going green!\\xa0Evia Sign\\xa0is one such digital solution that provides advanced digital signatures, so you sign documents on the go with a seamless experience that’s also compliant and secure.\\xa0In Evia Sign,'),\n",
       " Document(metadata={'source': 'https://www.enadoc.com/blogs/everything-you-need-to-know-about-enadoc-evia-sign/', 'title': 'Everything you need to know about Enadoc Evia Sign - Enadoc', 'description': 'Legality, Compliance, Security. Streamline document signing with confidence, ensuring legal validity and data protection.', 'language': 'en-US'}, page_content='green!\\xa0Evia Sign\\xa0is one such digital solution that provides advanced digital signatures, so you sign documents on the go with a seamless experience that’s also compliant and secure.\\xa0In Evia Sign, documents that have been digitally certified are those that are electronically signed using an AATL-compliant certificate. When a document gets signed and completed using Evia Sign by all the relevant signatories, it will be sealed with a digital certificate issued by the trusted third party, “GlobalSign,” a reputed organization that serves as a custom CA (Certificate Authority), and Evia Sign is certified by them. This digital certification seals and shields the electronic document from unauthorized alterations. If any such unauthorized modifications occur to the document, employing a popular pdf tool such as Acrobat Reader will instantly detect it and alert the user. The role of digital certificateIf your next question is, what it means to be compliant with GlobalSign’s digital certificate,'),\n",
       " Document(metadata={'source': 'https://www.enadoc.com/blogs/everything-you-need-to-know-about-enadoc-evia-sign/', 'title': 'Everything you need to know about Enadoc Evia Sign - Enadoc', 'description': 'Legality, Compliance, Security. Streamline document signing with confidence, ensuring legal validity and data protection.', 'language': 'en-US'}, page_content='tool such as Acrobat Reader will instantly detect it and alert the user. The role of digital certificateIf your next question is, what it means to be compliant with GlobalSign’s digital certificate, we’ve got the answer ready for you!\\xa0Once you have implemented the\\xa0Evia Sign\\xa0digital signing solution into your existing workflows, you can conveniently obtain the digital certificate from GlobalSign (after completing the identity verification processes). The digital certificate will then seal the electronic document once it is completed with the signatures from all the signatories in the document, making it tamper-evident.\\xa0Benefits included:\\xa0·\\xa0Globally recognized and trusted source:\\xa0GlobalSign is part of the Adobe Approved Trust List (AATL), which means it is a trusted Certificate Authority (CA) approved by Adobe. This makes their digital certificates automatically trusted by Adobe software, including Adobe Acrobat and Adobe Reader.· Create trusted digital signatures to efficiently'),\n",
       " Document(metadata={'source': 'https://www.enadoc.com/blogs/everything-you-need-to-know-about-enadoc-evia-sign/', 'title': 'Everything you need to know about Enadoc Evia Sign - Enadoc', 'description': 'Legality, Compliance, Security. Streamline document signing with confidence, ensuring legal validity and data protection.', 'language': 'en-US'}, page_content='(CA) approved by Adobe. This makes their digital certificates automatically trusted by Adobe software, including Adobe Acrobat and Adobe Reader.· Create trusted digital signatures to efficiently complete routine business workflows.·\\xa0PKI-based framework:\\xa0this means that Evia Sign digital signatures can provide enhanced confidence, credibility, and preservation of document integrity and signer’s identity validation.·\\xa0Third-Party Timestamping:\\xa0GlobalSign document signing certificates ensure that all digital signatures applied incorporate a trusted RFC 3161-compliant timestamp. Evia Sign and its PKI structure:Evia Sign\\xa0utilizes Public Key Infrastructure (PKI) technology to establish secure communication and authenticate digital transactions through public key cryptography and digital certificates.\\xa0When a document is fully signed by the relevant signatories on the Evia Sign platform, it is sealed with a GlobalSign digital certificate. This process guarantees the integrity of the signed'),\n",
       " Document(metadata={'source': 'https://www.enadoc.com/blogs/everything-you-need-to-know-about-enadoc-evia-sign/', 'title': 'Everything you need to know about Enadoc Evia Sign - Enadoc', 'description': 'Legality, Compliance, Security. Streamline document signing with confidence, ensuring legal validity and data protection.', 'language': 'en-US'}, page_content='a document is fully signed by the relevant signatories on the Evia Sign platform, it is sealed with a GlobalSign digital certificate. This process guarantees the integrity of the signed documents, making them tamper-evident, trustworthy, and legally valid. The implementation of PKI infrastructure by Evia Sign plays a pivotal role in establishing trust and security in the e-signing process.\\xa0Multi-factor authentication of Evia Sign for enhanced security\\xa0First Factor Authentication:\\xa0This is achieved in\\xa0Evia Sign\\xa0in two ways:\\xa0·\\xa0User Login Credentials:\\xa0This consists of the user’s login credentials validated by Evia Sign’s authentication system against the stored user data to ensure the correctness of the provided information.\\xa0·\\xa0Login via O365 account:\\xa0This consists of secure integration of Evia Sign with your existing o365 account, and with the required permissions granted and successful authorization, users can directly log into Evia Sign using their O365 account.\\xa0Second Factor'),\n",
       " Document(metadata={'source': 'https://www.enadoc.com/blogs/everything-you-need-to-know-about-enadoc-evia-sign/', 'title': 'Everything you need to know about Enadoc Evia Sign - Enadoc', 'description': 'Legality, Compliance, Security. Streamline document signing with confidence, ensuring legal validity and data protection.', 'language': 'en-US'}, page_content='of Evia Sign with your existing o365 account, and with the required permissions granted and successful authorization, users can directly log into Evia Sign using their O365 account.\\xa0Second Factor Authentication:\\xa0Evia Sign adds an additional layer of protection to ensure that only authorized individuals or intended signatories can access or sign the document via multi-factor authentication using OTP / Access code.\\xa0This comprises a temporary OTP generated by the system / predefined password that provides access to the document, enhancing security and mitigating the risks of unauthorized access.\\xa0In the third step of the signature request process, the setting up of the OTP / Access Code can be enabled, where the signature requester can select the signatory, set up the OTP / Access Code, and securely deliver it through a pre-defined method — SMS or email. The successful validation of the OTP serves as the second factor of authentication, further confirming the user’s identity and'),\n",
       " Document(metadata={'source': 'https://www.enadoc.com/blogs/everything-you-need-to-know-about-enadoc-evia-sign/', 'title': 'Everything you need to know about Enadoc Evia Sign - Enadoc', 'description': 'Legality, Compliance, Security. Streamline document signing with confidence, ensuring legal validity and data protection.', 'language': 'en-US'}, page_content='and securely deliver it through a pre-defined method — SMS or email. The successful validation of the OTP serves as the second factor of authentication, further confirming the user’s identity and authorizing access to the document and sensitive action, such as placing a digital signature.\\xa0The way forward in the legality and compliance lane of Evia Sign\\xa0Evia Sign qualifies as an Advanced Electronic Signature (AES) in the three-tiered e-signature types identified by the eIDAS regulation passed by the European Commission in 2014 — Due to its incorporation of the digital certificate from GlobalSign, a trusted third-party source, within the application.\\xa0The types of e-signatures and eIDAS requirements:\\xa0Simple Electronic Signatures (SES):\\xa0These signatures don’t require ID verification from the signatory. They are the most basic form of electronic signatures and provide a low level of assurance.\\xa0Advanced Electronic Signatures (AES):\\xa0AES requires ID verification. It adds an extra layer of'),\n",
       " Document(metadata={'source': 'https://www.enadoc.com/blogs/everything-you-need-to-know-about-enadoc-evia-sign/', 'title': 'Everything you need to know about Enadoc Evia Sign - Enadoc', 'description': 'Legality, Compliance, Security. Streamline document signing with confidence, ensuring legal validity and data protection.', 'language': 'en-US'}, page_content='signatory. They are the most basic form of electronic signatures and provide a low level of assurance.\\xa0Advanced Electronic Signatures (AES):\\xa0AES requires ID verification. It adds an extra layer of confidence by verifying the identity of the signatory and enhancing the integrity of the electronic document, making it more reliable than simple signatures. This added level of authentication and verification enhances the overall security and reliability of the signed documents, providing increased assurance to the parties involved in the transaction.\\xa0Qualified Electronic Signatures (QES):\\xa0QES requires face-to-face ID verification — in person or through video chat. It provides the highest level of assurance for the signatory. However, due to the need for in-person verification, QES entails additional technical and procedural requirements to ensure its validity and reliability.\\xa0Currently, when a signatory receives a document through Evia Sign, they can conveniently sign it using the advanced'),\n",
       " Document(metadata={'source': 'https://www.enadoc.com/blogs/everything-you-need-to-know-about-enadoc-evia-sign/', 'title': 'Everything you need to know about Enadoc Evia Sign - Enadoc', 'description': 'Legality, Compliance, Security. Streamline document signing with confidence, ensuring legal validity and data protection.', 'language': 'en-US'}, page_content='technical and procedural requirements to ensure its validity and reliability.\\xa0Currently, when a signatory receives a document through Evia Sign, they can conveniently sign it using the advanced electronic signature (AES) certificate provided in the Evia Sign digital platform. This streamlined process improves department-level signature workflows, enhancing the productivity and efficiency of business approval processes.\\xa0Moreover, by eliminating the risk of missed signatures and embracing a paperless approach, the overall signing experience is elevated, providing added convenience and effectiveness.\\xa0The Future Scope of Evia Sign\\xa0As a futuristic approach toward legal compliance, Evia Sign is exploring the incorporation of additional pathways for Advanced Electronic Signatures. This would involve allowing the signature requesters to specify whether signatories can use their personal certificates, such as smart cards, for signing purposes.\\xa0By offering this flexibility, Evia Sign aims to'),\n",
       " Document(metadata={'source': 'https://www.enadoc.com/blogs/everything-you-need-to-know-about-enadoc-evia-sign/', 'title': 'Everything you need to know about Enadoc Evia Sign - Enadoc', 'description': 'Legality, Compliance, Security. Streamline document signing with confidence, ensuring legal validity and data protection.', 'language': 'en-US'}, page_content=\"allowing the signature requesters to specify whether signatories can use their personal certificates, such as smart cards, for signing purposes.\\xa0By offering this flexibility, Evia Sign aims to provide the signatories with more options for authentication while still maintaining compliance with legal standards.\\xa0Now that you know all about Evia Sign on legality, compliance, and security aspects, it’s time to dive into the experience it offers!\\xa0Go green with\\xa0Evia Sign!\\xa0Try Enadoc Evia Sign for FREE.WHAT'S LATEST?     Blogs                  What it means to be ISO digital and secure in 2024  January 29, 2024 Hey Business Trailblazers! Enadoc just hit a major security home run! We’re now proudly holding the ISO 27001:2022 certification! Now, your business can ride the digital wave with an extra layer of security, and we’re here to spill the beans on how it benefits you! ISO 27001:2022 certification,\\xa0 this accreditation not only exemplifies Enadoc’s dedication […] Learn More     Blogs\"),\n",
       " Document(metadata={'source': 'https://www.enadoc.com/blogs/everything-you-need-to-know-about-enadoc-evia-sign/', 'title': 'Everything you need to know about Enadoc Evia Sign - Enadoc', 'description': 'Legality, Compliance, Security. Streamline document signing with confidence, ensuring legal validity and data protection.', 'language': 'en-US'}, page_content='layer of security, and we’re here to spill the beans on how it benefits you! ISO 27001:2022 certification,\\xa0 this accreditation not only exemplifies Enadoc’s dedication […] Learn More     Blogs                  Everything you need to know about Enadoc Evia Sign  June 27, 2023 Legality, Compliances, and Security with Enadoc Evia Sign Evia Sign is a digital signature platform that enables users to securely send and sign electronic documents. With its intuitive user interface and smart features, the platform ensures a seamless experience throughout the process. The purpose of this article is to highlight the key aspects of\\xa0Evia Sign’s\\xa0legality […] Learn MoreRELATED ARTICLES     Blogs                  Discover the difference: Electronic and Digital SignaturesJune 5, 2023In this digital era, signatures are no longer limited to pen-paper. Electronic and digital signatures have become popular alternatives to traditional signatures, but what are the differences? Electronic signatures and'),\n",
       " Document(metadata={'source': 'https://www.enadoc.com/blogs/everything-you-need-to-know-about-enadoc-evia-sign/', 'title': 'Everything you need to know about Enadoc Evia Sign - Enadoc', 'description': 'Legality, Compliance, Security. Streamline document signing with confidence, ensuring legal validity and data protection.', 'language': 'en-US'}, page_content='signatures are no longer limited to pen-paper. Electronic and digital signatures have become popular alternatives to traditional signatures, but what are the differences? Electronic signatures and digital signatures serve as essential tools for document signing in the digital age. While both types have their advantages, it’s crucial to understand the differences […] Learn More     Blogs                  Digital signatures on promoting environmental sustainability?May 31, 2023In today’s world, environmental sustainability is a critical concern for businesses and individuals alike. One area where digital technology can significantly impact is the use of digital signatures. This article will cover how digital signatures can help promote environmental sustainability. E-signature eliminates paper based\\xa0 documents Firstly, the use of digital signatures eliminates the need for […] Learn More  Copyright 2022. Enadoc. All rights reserved.ABOUT USOur PurposeOur ExecutivesCareersSOLUTIONSDigital'),\n",
       " Document(metadata={'source': 'https://www.enadoc.com/blogs/everything-you-need-to-know-about-enadoc-evia-sign/', 'title': 'Everything you need to know about Enadoc Evia Sign - Enadoc', 'description': 'Legality, Compliance, Security. Streamline document signing with confidence, ensuring legal validity and data protection.', 'language': 'en-US'}, page_content='based\\xa0 documents Firstly, the use of digital signatures eliminates the need for […] Learn More  Copyright 2022. Enadoc. All rights reserved.ABOUT USOur PurposeOur ExecutivesCareersSOLUTIONSDigital SignatureEnterprise Content ManagementBusiness Process AutomationDigitization ServicesPRODUCTSEvia SignEvia ArchiveEvia AutomateEnadoc ECMFlowdohOutsourced Scanning ServiceCONTENT HUBEventsBlogsNewsVideosResourcesRoles and IndustriesPLANS AND PRICINGEvia SignBECOME A PARTNEROverview                     Privacy Policy Terms of use About Enadoc content hub Solutions talk to us Products Become a Partner Plans and Pricing                     Copyright 2022. Enadoc. All rights reserved. Privacy Policy Terms of useThank You for Getting in Touch!We appreciate you contacting us.One of our account managers will get in touch with you soon. or you may also reach us at lisa@enadoc.com Have a great day!LisaThank you!A download link was sent to your email.   OK')]"
      ]
     },
     "execution_count": 89,
     "metadata": {},
     "output_type": "execute_result"
    }
   ],
   "source": [
    "documents"
   ]
  },
  {
   "cell_type": "code",
   "execution_count": 90,
   "metadata": {},
   "outputs": [],
   "source": [
    "from langchain_community.embeddings import OllamaEmbeddings\n",
    "embeddings=(\n",
    "    OllamaEmbeddings(model=\"llama3.1\") \n",
    ")"
   ]
  },
  {
   "cell_type": "code",
   "execution_count": 91,
   "metadata": {},
   "outputs": [],
   "source": [
    "from langchain_community.vectorstores import FAISS\n",
    "vectorstoredb=FAISS.from_documents(documents,embeddings)"
   ]
  },
  {
   "cell_type": "code",
   "execution_count": 92,
   "metadata": {},
   "outputs": [
    {
     "data": {
      "text/plain": [
       "<langchain_community.vectorstores.faiss.FAISS at 0x129a5e2f9d0>"
      ]
     },
     "execution_count": 92,
     "metadata": {},
     "output_type": "execute_result"
    }
   ],
   "source": [
    "vectorstoredb"
   ]
  },
  {
   "cell_type": "code",
   "execution_count": 93,
   "metadata": {},
   "outputs": [
    {
     "data": {
      "text/plain": [
       "'and securely deliver it through a pre-defined method — SMS or email. The successful validation of the OTP serves as the second factor of authentication, further confirming the user’s identity and authorizing access to the document and sensitive action, such as placing a digital signature.\\xa0The way forward in the legality and compliance lane of Evia Sign\\xa0Evia Sign qualifies as an Advanced Electronic Signature (AES) in the three-tiered e-signature types identified by the eIDAS regulation passed by the European Commission in 2014 — Due to its incorporation of the digital certificate from GlobalSign, a trusted third-party source, within the application.\\xa0The types of e-signatures and eIDAS requirements:\\xa0Simple Electronic Signatures (SES):\\xa0These signatures don’t require ID verification from the signatory. They are the most basic form of electronic signatures and provide a low level of assurance.\\xa0Advanced Electronic Signatures (AES):\\xa0AES requires ID verification. It adds an extra layer of'"
      ]
     },
     "execution_count": 93,
     "metadata": {},
     "output_type": "execute_result"
    }
   ],
   "source": [
    "## Query from a vectorDB\n",
    "query=\"AES requires ID verification. It adds an extra layer\"\n",
    "result=vectorstoredb.similarity_search(query)\n",
    "result[0].page_content"
   ]
  },
  {
   "cell_type": "code",
   "execution_count": 94,
   "metadata": {},
   "outputs": [],
   "source": [
    "from langchain_community.llms import Ollama\n",
    "llm=Ollama(model=\"llama3.1\")"
   ]
  },
  {
   "cell_type": "code",
   "execution_count": 95,
   "metadata": {},
   "outputs": [
    {
     "data": {
      "text/plain": [
       "RunnableBinding(bound=RunnableBinding(bound=RunnableAssign(mapper={\n",
       "  context: RunnableLambda(format_docs)\n",
       "}), kwargs={}, config={'run_name': 'format_inputs'}, config_factories=[])\n",
       "| ChatPromptTemplate(input_variables=['context'], input_types={}, partial_variables={}, messages=[HumanMessagePromptTemplate(prompt=PromptTemplate(input_variables=['context'], input_types={}, partial_variables={}, template='\\nAnswer the following questions based only on the provided context:\\n<context>\\n{context}\\n</context>\\n'), additional_kwargs={})])\n",
       "| Ollama(model='llama3.1')\n",
       "| StrOutputParser(), kwargs={}, config={'run_name': 'stuff_documents_chain'}, config_factories=[])"
      ]
     },
     "execution_count": 95,
     "metadata": {},
     "output_type": "execute_result"
    }
   ],
   "source": [
    "## Retrieval chain, Document chain\n",
    "\n",
    "from langchain.chains.combine_documents import create_stuff_documents_chain\n",
    "from langchain_core.prompts import ChatPromptTemplate\n",
    "\n",
    "prompt=ChatPromptTemplate.from_template(\n",
    "    \"\"\"\n",
    "Answer the following questions based only on the provided context:\n",
    "<context>\n",
    "{context}\n",
    "</context>\n",
    "\"\"\"\n",
    ")\n",
    "\n",
    "document_chain=create_stuff_documents_chain(llm,prompt)\n",
    "document_chain"
   ]
  },
  {
   "cell_type": "code",
   "execution_count": 96,
   "metadata": {},
   "outputs": [
    {
     "data": {
      "text/plain": [
       "'Here are the answers to your implied questions based on the provided context:\\n\\n1. Does AES require ID verification? \\nAnswer: Yes.\\n\\n2. What is the purpose of adding an extra layer of confidence in AES? \\nAnswer: To verify the identity of the signatory and enhance the integrity of the electronic document.\\n\\n3. How does AES make the electronic document more reliable? \\nAnswer: By verifying the identity of the signatory and enhancing the integrity of the electronic document.'"
      ]
     },
     "execution_count": 96,
     "metadata": {},
     "output_type": "execute_result"
    }
   ],
   "source": [
    "from langchain_core.documents import Document\n",
    "\n",
    "document_chain.invoke(\n",
    "    {\n",
    "        \"input\":\"AES requires ID verification. It adds an extra layer\",\n",
    "        \"context\":[Document(page_content=\"AES requires ID verification. It adds an extra layer of confidence by verifying the identity of the signatory and enhancing the integrity of the electronic document, making it more reliable\")]\n",
    "    }\n",
    ")"
   ]
  },
  {
   "cell_type": "code",
   "execution_count": 97,
   "metadata": {},
   "outputs": [
    {
     "data": {
      "text/plain": [
       "<langchain_community.vectorstores.faiss.FAISS at 0x129a5e2f9d0>"
      ]
     },
     "execution_count": 97,
     "metadata": {},
     "output_type": "execute_result"
    }
   ],
   "source": [
    "### Input--> Retriever--> VectorStoreDB\n",
    "vectorstoredb"
   ]
  },
  {
   "cell_type": "code",
   "execution_count": 98,
   "metadata": {},
   "outputs": [],
   "source": [
    "retriever=vectorstoredb.as_retriever()"
   ]
  },
  {
   "cell_type": "code",
   "execution_count": 99,
   "metadata": {},
   "outputs": [],
   "source": [
    "from langchain.chains import create_retrieval_chain\n",
    "retrieval_chain=create_retrieval_chain(retriever,document_chain)"
   ]
  },
  {
   "cell_type": "code",
   "execution_count": 100,
   "metadata": {},
   "outputs": [
    {
     "data": {
      "text/plain": [
       "RunnableBinding(bound=RunnableAssign(mapper={\n",
       "  context: RunnableBinding(bound=RunnableLambda(lambda x: x['input'])\n",
       "           | VectorStoreRetriever(tags=['FAISS', 'OllamaEmbeddings'], vectorstore=<langchain_community.vectorstores.faiss.FAISS object at 0x00000129A5E2F9D0>, search_kwargs={}), kwargs={}, config={'run_name': 'retrieve_documents'}, config_factories=[])\n",
       "})\n",
       "| RunnableAssign(mapper={\n",
       "    answer: RunnableBinding(bound=RunnableBinding(bound=RunnableAssign(mapper={\n",
       "              context: RunnableLambda(format_docs)\n",
       "            }), kwargs={}, config={'run_name': 'format_inputs'}, config_factories=[])\n",
       "            | ChatPromptTemplate(input_variables=['context'], input_types={}, partial_variables={}, messages=[HumanMessagePromptTemplate(prompt=PromptTemplate(input_variables=['context'], input_types={}, partial_variables={}, template='\\nAnswer the following questions based only on the provided context:\\n<context>\\n{context}\\n</context>\\n'), additional_kwargs={})])\n",
       "            | Ollama(model='llama3.1')\n",
       "            | StrOutputParser(), kwargs={}, config={'run_name': 'stuff_documents_chain'}, config_factories=[])\n",
       "  }), kwargs={}, config={'run_name': 'retrieval_chain'}, config_factories=[])"
      ]
     },
     "execution_count": 100,
     "metadata": {},
     "output_type": "execute_result"
    }
   ],
   "source": [
    "retrieval_chain"
   ]
  },
  {
   "cell_type": "code",
   "execution_count": 104,
   "metadata": {},
   "outputs": [
    {
     "data": {
      "text/plain": [
       "\"Based on the provided context, here are the answers to the questions:\\n\\n1. The use of digital signatures eliminates the need for what?\\n Answer: **wet ink signatures** or physical signatures.\\n\\n2. What is achieved by offering flexibility in Evia Sign's digital signature platform?\\nAnswer: **More options for authentication while maintaining compliance with legal standards**, allowing signatories to specify whether they can use their personal certificates (such as smart cards) for signing purposes.\\n\\n3. What benefits does Enadoc's ISO 27001:2022 certification provide?\\n Answer: **An extra layer of security** for businesses using Enadoc's digital signature platform, ensuring compliance with international standards for information security.\\n\\n4. How are documents sealed and guaranteed to be trustworthy in Evia Sign?\\nAnswer: **By being sealed with a GlobalSign digital certificate**, which guarantees the integrity of signed documents, making them tamper-evident, trustworthy, and legally valid.\\n\\n5. What is achieved through Multi-factor authentication (MFA) in Evia Sign for enhanced security?\\nAnswer: **Enhanced security** through two layers of authentication:\\nFirst Factor Authentication (user login credentials or O365 account integration), and \\nSecond Factor Authentication (additional verification steps to ensure user identity).\""
      ]
     },
     "execution_count": 104,
     "metadata": {},
     "output_type": "execute_result"
    }
   ],
   "source": [
    "## Get the response from the LLM\n",
    "response=retrieval_chain.invoke({\"input\":\"What are Qualified Electronic Signatures (QES)?\"})\n",
    "response[\"answer\"]"
   ]
  },
  {
   "cell_type": "code",
   "execution_count": 105,
   "metadata": {},
   "outputs": [
    {
     "data": {
      "text/plain": [
       "{'input': 'What are Qualified Electronic Signatures (QES)?',\n",
       " 'context': [Document(metadata={'source': 'https://www.enadoc.com/blogs/everything-you-need-to-know-about-enadoc-evia-sign/', 'title': 'Everything you need to know about Enadoc Evia Sign - Enadoc', 'description': 'Legality, Compliance, Security. Streamline document signing with confidence, ensuring legal validity and data protection.', 'language': 'en-US'}, page_content='based\\xa0 documents Firstly, the use of digital signatures eliminates the need for […] Learn More  Copyright 2022. Enadoc. All rights reserved.ABOUT USOur PurposeOur ExecutivesCareersSOLUTIONSDigital SignatureEnterprise Content ManagementBusiness Process AutomationDigitization ServicesPRODUCTSEvia SignEvia ArchiveEvia AutomateEnadoc ECMFlowdohOutsourced Scanning ServiceCONTENT HUBEventsBlogsNewsVideosResourcesRoles and IndustriesPLANS AND PRICINGEvia SignBECOME A PARTNEROverview                     Privacy Policy Terms of use About Enadoc content hub Solutions talk to us Products Become a Partner Plans and Pricing                     Copyright 2022. Enadoc. All rights reserved. Privacy Policy Terms of useThank You for Getting in Touch!We appreciate you contacting us.One of our account managers will get in touch with you soon. or you may also reach us at lisa@enadoc.com Have a great day!LisaThank you!A download link was sent to your email.   OK'),\n",
       "  Document(metadata={'source': 'https://www.enadoc.com/blogs/everything-you-need-to-know-about-enadoc-evia-sign/', 'title': 'Everything you need to know about Enadoc Evia Sign - Enadoc', 'description': 'Legality, Compliance, Security. Streamline document signing with confidence, ensuring legal validity and data protection.', 'language': 'en-US'}, page_content=\"allowing the signature requesters to specify whether signatories can use their personal certificates, such as smart cards, for signing purposes.\\xa0By offering this flexibility, Evia Sign aims to provide the signatories with more options for authentication while still maintaining compliance with legal standards.\\xa0Now that you know all about Evia Sign on legality, compliance, and security aspects, it’s time to dive into the experience it offers!\\xa0Go green with\\xa0Evia Sign!\\xa0Try Enadoc Evia Sign for FREE.WHAT'S LATEST?     Blogs                  What it means to be ISO digital and secure in 2024  January 29, 2024 Hey Business Trailblazers! Enadoc just hit a major security home run! We’re now proudly holding the ISO 27001:2022 certification! Now, your business can ride the digital wave with an extra layer of security, and we’re here to spill the beans on how it benefits you! ISO 27001:2022 certification,\\xa0 this accreditation not only exemplifies Enadoc’s dedication […] Learn More     Blogs\"),\n",
       "  Document(metadata={'source': 'https://www.enadoc.com/blogs/everything-you-need-to-know-about-enadoc-evia-sign/', 'title': 'Everything you need to know about Enadoc Evia Sign - Enadoc', 'description': 'Legality, Compliance, Security. Streamline document signing with confidence, ensuring legal validity and data protection.', 'language': 'en-US'}, page_content='layer of security, and we’re here to spill the beans on how it benefits you! ISO 27001:2022 certification,\\xa0 this accreditation not only exemplifies Enadoc’s dedication […] Learn More     Blogs                  Everything you need to know about Enadoc Evia Sign  June 27, 2023 Legality, Compliances, and Security with Enadoc Evia Sign Evia Sign is a digital signature platform that enables users to securely send and sign electronic documents. With its intuitive user interface and smart features, the platform ensures a seamless experience throughout the process. The purpose of this article is to highlight the key aspects of\\xa0Evia Sign’s\\xa0legality […] Learn MoreRELATED ARTICLES     Blogs                  Discover the difference: Electronic and Digital SignaturesJune 5, 2023In this digital era, signatures are no longer limited to pen-paper. Electronic and digital signatures have become popular alternatives to traditional signatures, but what are the differences? Electronic signatures and'),\n",
       "  Document(metadata={'source': 'https://www.enadoc.com/blogs/everything-you-need-to-know-about-enadoc-evia-sign/', 'title': 'Everything you need to know about Enadoc Evia Sign - Enadoc', 'description': 'Legality, Compliance, Security. Streamline document signing with confidence, ensuring legal validity and data protection.', 'language': 'en-US'}, page_content='a document is fully signed by the relevant signatories on the Evia Sign platform, it is sealed with a GlobalSign digital certificate. This process guarantees the integrity of the signed documents, making them tamper-evident, trustworthy, and legally valid. The implementation of PKI infrastructure by Evia Sign plays a pivotal role in establishing trust and security in the e-signing process.\\xa0Multi-factor authentication of Evia Sign for enhanced security\\xa0First Factor Authentication:\\xa0This is achieved in\\xa0Evia Sign\\xa0in two ways:\\xa0·\\xa0User Login Credentials:\\xa0This consists of the user’s login credentials validated by Evia Sign’s authentication system against the stored user data to ensure the correctness of the provided information.\\xa0·\\xa0Login via O365 account:\\xa0This consists of secure integration of Evia Sign with your existing o365 account, and with the required permissions granted and successful authorization, users can directly log into Evia Sign using their O365 account.\\xa0Second Factor')],\n",
       " 'answer': \"Based on the provided context, here are the answers to the questions:\\n\\n1. The use of digital signatures eliminates the need for what?\\n Answer: **wet ink signatures** or physical signatures.\\n\\n2. What is achieved by offering flexibility in Evia Sign's digital signature platform?\\nAnswer: **More options for authentication while maintaining compliance with legal standards**, allowing signatories to specify whether they can use their personal certificates (such as smart cards) for signing purposes.\\n\\n3. What benefits does Enadoc's ISO 27001:2022 certification provide?\\n Answer: **An extra layer of security** for businesses using Enadoc's digital signature platform, ensuring compliance with international standards for information security.\\n\\n4. How are documents sealed and guaranteed to be trustworthy in Evia Sign?\\nAnswer: **By being sealed with a GlobalSign digital certificate**, which guarantees the integrity of signed documents, making them tamper-evident, trustworthy, and legally valid.\\n\\n5. What is achieved through Multi-factor authentication (MFA) in Evia Sign for enhanced security?\\nAnswer: **Enhanced security** through two layers of authentication:\\nFirst Factor Authentication (user login credentials or O365 account integration), and \\nSecond Factor Authentication (additional verification steps to ensure user identity).\"}"
      ]
     },
     "execution_count": 105,
     "metadata": {},
     "output_type": "execute_result"
    }
   ],
   "source": [
    "response"
   ]
  },
  {
   "cell_type": "code",
   "execution_count": 106,
   "metadata": {},
   "outputs": [
    {
     "data": {
      "text/plain": [
       "[Document(metadata={'source': 'https://www.enadoc.com/blogs/everything-you-need-to-know-about-enadoc-evia-sign/', 'title': 'Everything you need to know about Enadoc Evia Sign - Enadoc', 'description': 'Legality, Compliance, Security. Streamline document signing with confidence, ensuring legal validity and data protection.', 'language': 'en-US'}, page_content='based\\xa0 documents Firstly, the use of digital signatures eliminates the need for […] Learn More  Copyright 2022. Enadoc. All rights reserved.ABOUT USOur PurposeOur ExecutivesCareersSOLUTIONSDigital SignatureEnterprise Content ManagementBusiness Process AutomationDigitization ServicesPRODUCTSEvia SignEvia ArchiveEvia AutomateEnadoc ECMFlowdohOutsourced Scanning ServiceCONTENT HUBEventsBlogsNewsVideosResourcesRoles and IndustriesPLANS AND PRICINGEvia SignBECOME A PARTNEROverview                     Privacy Policy Terms of use About Enadoc content hub Solutions talk to us Products Become a Partner Plans and Pricing                     Copyright 2022. Enadoc. All rights reserved. Privacy Policy Terms of useThank You for Getting in Touch!We appreciate you contacting us.One of our account managers will get in touch with you soon. or you may also reach us at lisa@enadoc.com Have a great day!LisaThank you!A download link was sent to your email.   OK'),\n",
       " Document(metadata={'source': 'https://www.enadoc.com/blogs/everything-you-need-to-know-about-enadoc-evia-sign/', 'title': 'Everything you need to know about Enadoc Evia Sign - Enadoc', 'description': 'Legality, Compliance, Security. Streamline document signing with confidence, ensuring legal validity and data protection.', 'language': 'en-US'}, page_content=\"allowing the signature requesters to specify whether signatories can use their personal certificates, such as smart cards, for signing purposes.\\xa0By offering this flexibility, Evia Sign aims to provide the signatories with more options for authentication while still maintaining compliance with legal standards.\\xa0Now that you know all about Evia Sign on legality, compliance, and security aspects, it’s time to dive into the experience it offers!\\xa0Go green with\\xa0Evia Sign!\\xa0Try Enadoc Evia Sign for FREE.WHAT'S LATEST?     Blogs                  What it means to be ISO digital and secure in 2024  January 29, 2024 Hey Business Trailblazers! Enadoc just hit a major security home run! We’re now proudly holding the ISO 27001:2022 certification! Now, your business can ride the digital wave with an extra layer of security, and we’re here to spill the beans on how it benefits you! ISO 27001:2022 certification,\\xa0 this accreditation not only exemplifies Enadoc’s dedication […] Learn More     Blogs\"),\n",
       " Document(metadata={'source': 'https://www.enadoc.com/blogs/everything-you-need-to-know-about-enadoc-evia-sign/', 'title': 'Everything you need to know about Enadoc Evia Sign - Enadoc', 'description': 'Legality, Compliance, Security. Streamline document signing with confidence, ensuring legal validity and data protection.', 'language': 'en-US'}, page_content='layer of security, and we’re here to spill the beans on how it benefits you! ISO 27001:2022 certification,\\xa0 this accreditation not only exemplifies Enadoc’s dedication […] Learn More     Blogs                  Everything you need to know about Enadoc Evia Sign  June 27, 2023 Legality, Compliances, and Security with Enadoc Evia Sign Evia Sign is a digital signature platform that enables users to securely send and sign electronic documents. With its intuitive user interface and smart features, the platform ensures a seamless experience throughout the process. The purpose of this article is to highlight the key aspects of\\xa0Evia Sign’s\\xa0legality […] Learn MoreRELATED ARTICLES     Blogs                  Discover the difference: Electronic and Digital SignaturesJune 5, 2023In this digital era, signatures are no longer limited to pen-paper. Electronic and digital signatures have become popular alternatives to traditional signatures, but what are the differences? Electronic signatures and'),\n",
       " Document(metadata={'source': 'https://www.enadoc.com/blogs/everything-you-need-to-know-about-enadoc-evia-sign/', 'title': 'Everything you need to know about Enadoc Evia Sign - Enadoc', 'description': 'Legality, Compliance, Security. Streamline document signing with confidence, ensuring legal validity and data protection.', 'language': 'en-US'}, page_content='a document is fully signed by the relevant signatories on the Evia Sign platform, it is sealed with a GlobalSign digital certificate. This process guarantees the integrity of the signed documents, making them tamper-evident, trustworthy, and legally valid. The implementation of PKI infrastructure by Evia Sign plays a pivotal role in establishing trust and security in the e-signing process.\\xa0Multi-factor authentication of Evia Sign for enhanced security\\xa0First Factor Authentication:\\xa0This is achieved in\\xa0Evia Sign\\xa0in two ways:\\xa0·\\xa0User Login Credentials:\\xa0This consists of the user’s login credentials validated by Evia Sign’s authentication system against the stored user data to ensure the correctness of the provided information.\\xa0·\\xa0Login via O365 account:\\xa0This consists of secure integration of Evia Sign with your existing o365 account, and with the required permissions granted and successful authorization, users can directly log into Evia Sign using their O365 account.\\xa0Second Factor')]"
      ]
     },
     "execution_count": 106,
     "metadata": {},
     "output_type": "execute_result"
    }
   ],
   "source": [
    "response[\"context\"]"
   ]
  }
 ],
 "metadata": {
  "kernelspec": {
   "display_name": "Python 3",
   "language": "python",
   "name": "python3"
  },
  "language_info": {
   "codemirror_mode": {
    "name": "ipython",
    "version": 3
   },
   "file_extension": ".py",
   "mimetype": "text/x-python",
   "name": "python",
   "nbconvert_exporter": "python",
   "pygments_lexer": "ipython3",
   "version": "3.10.0"
  }
 },
 "nbformat": 4,
 "nbformat_minor": 2
}
