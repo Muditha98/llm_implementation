{
 "cells": [
  {
   "cell_type": "code",
   "execution_count": 1,
   "metadata": {},
   "outputs": [
    {
     "data": {
      "text/plain": [
       "True"
      ]
     },
     "execution_count": 1,
     "metadata": {},
     "output_type": "execute_result"
    }
   ],
   "source": [
    "import os\n",
    "from dotenv import load_dotenv\n",
    "load_dotenv()"
   ]
  },
  {
   "cell_type": "code",
   "execution_count": 2,
   "metadata": {},
   "outputs": [
    {
     "data": {
      "text/plain": [
       "ChatGroq(client=<groq.resources.chat.completions.Completions object at 0x000001BA28566CB0>, async_client=<groq.resources.chat.completions.AsyncCompletions object at 0x000001BA285659F0>, model_name='Gemma-7b-It', model_kwargs={}, groq_api_key=SecretStr('**********'))"
      ]
     },
     "execution_count": 2,
     "metadata": {},
     "output_type": "execute_result"
    }
   ],
   "source": [
    "from langchain_groq import ChatGroq\n",
    "api_key=os.getenv(\"GROQ_API_KEY\")\n",
    "llm=ChatGroq(groq_api_key=api_key,model=\"Gemma-7b-It\")\n",
    "llm"
   ]
  },
  {
   "cell_type": "code",
   "execution_count": 3,
   "metadata": {},
   "outputs": [],
   "source": [
    "from langchain.schema import (AIMessage,HumanMessage,SystemMessage)"
   ]
  },
  {
   "cell_type": "code",
   "execution_count": 4,
   "metadata": {},
   "outputs": [],
   "source": [
    "speech=\"\"\"\n",
    "Esteemed Maha Sangha and Religious Leaders, Parents, Brothers, Sisters and Children;\n",
    "\n",
    "I extend my heartfelt gratitude to all the people of this country who have listened to our voices over the decades and breathed life into the programs we proposed.\n",
    "We believe that the victory you have given us will be even more strengthened if it brings joy to those who may not have agreed with our vision. Therefore, I want to dedicate this victory to all citizens of our nation.\n",
    "\n",
    " \n",
    "\n",
    "We honour and remember the courageous men and women of previous generations who made sacrifices, some with their lives, for this victory. I see this victory and the prosperous nation we aim to build as a tribute to their legacy.\n",
    "\n",
    "We believe that all people, including those who trusted us despite slander, falsehoods, and misinformation, and elected our political movement with great determination have the strength to shoulder the responsibility of building this nation together.\n",
    "\n",
    "We are capable of fulfilling this role as a united team, and we have a talented team dedicated to this mission. Our determination is unwavering.\n",
    "\n",
    "The change we seek involves many steps that will take time. However, achieving stability and confidence in the current economy is crucial. We plan to begin negotiations with the International Monetary Fund immediately and proceed with activities related to the extended credit facility. Additionally, to advance our debt restructuring program, we are negotiating with relevant creditors to expedite the process and secure necessary debt relief. We are confident that we can gain the support of both the people of this country and the international community, and we believe that through this collective support, we can achieve success.\n",
    "\n",
    "A key concept that resonates with the public is our commitment to making a “difference.” One of the primary changes citizens expect is to eliminate the negative traits in our political culture. Our track record thus far supports this commitment. Notably, we succeeded in making the presidential election the only one in Sri Lanka without reports of post-election violence, which reflects the trust the people have placed in us. Our aim is to confirm and stabilize this positive situation.\n",
    "\n",
    " \n",
    "\n",
    "At this moment, I want to highlight the importance of engaging in politics with a collective focus on building our country. We are committed to providing that leadership.\n",
    "Regardless of whether one identifies as Sinhalese, Tamil, Muslim, Burgher, or Malay, our nation will not thrive until we create a practical environment where everyone can proudly say, “We are Sri Lankan citizens.” We will not hesitate to implement the necessary constitutional, economic, and political reforms.\n",
    "\n",
    "We are launching a permanent program to build a unified Sri Lankan nation that respects diversity, fully ending the era of division based on race, religion, class, and caste.\n",
    "We have already taken significant steps to appoint efficient and honest officials to oversee these initiatives. We are advancing steadily toward the desired changes, ensuring that public service remains intact and citizens are not adversely affected.\n",
    "\n",
    "We are committed to creating a law-abiding nation and fostering a disciplined society while ensuring the social security of all citizens. This revives the principle that everyone is equal before the law.\n",
    "\n",
    "We believe that public service plays a crucial role in nation-building. To that end, we will establish a public service that instills pride in the community and aligns with the government’s goals. Our commitment is to create an efficient, honest, and people-focused public service.\n",
    "\n",
    "Our goal is to improve the standard of living for the people of this country. We are implementing practical programs to alleviate the heavy burdens faced by our citizens.\n",
    "No parent in this country should have to worry about their child’s future. Every parent deserves the right to provide their child with access to quality schools and education. We are fully committed to securing the future of the next generation by ensuring excellent education for all children. By fostering knowledge, attitudes, and skills, we are building a promising future for the young generation of our country.\n",
    "\n",
    "When we visit a country, the airport often offers a first impression, reflecting its order, the behaviour of its people, their work ethic, and cultural practices.\n",
    "\n",
    "It also reveals the country’s cleanliness, how vehicles are driven, how the elderly are treated, the hospitality shown, and even how animals are cared for. We have developed clear plans to enhance Sri Lanka’s image in these areas, with short-term, medium-term, and long-term initiatives already underway.\n",
    "\n",
    "Our goal is to create a nation where the world respects our passport, and where every citizen can proudly say, “I am a Sri Lankan.” We aim to build a country where citizenship is a source of pride for all. Achieving this vision will require the collective effort of every citizen.\n",
    "\n",
    "We are committed to creating a system that upholds social justice for all, and we will do so with the highest sense of responsibility.\n",
    "\n",
    "We are building a secure future for our children and youth through a program that promotes knowledge, skills, education, and entrepreneurship.\n",
    "\n",
    "The women in our community, who make up over 52% of our population, play a vital role in both the economy and the social fabric of our country. We are actively working to enhance women’s representation across all institutions. As a testament to our commitment, we have already appointed a woman as Prime Minister.\n",
    "\n",
    "A significant portion of our population consists of individuals with disabilities who require special social protection. To support this group, we have proposed a robust social safety net and are implementing short-term measures to address their needs.\n",
    "\n",
    "We ensure that no group within our society is overlooked on our journey forward. By respecting each other’s identities and harnessing them positively for the country’s progress, we make our collective contribution.\n",
    "\n",
    "We hold a strong belief in the sovereignty of the people and are committed to safeguarding their democratic rights.\n",
    "\n",
    "I understand that some may feel uncertain due to doubts about us, but I am determined to earn your trust through my actions. I welcome your constructive criticism and encourage you to join us in building the future together. If we can set aside our differences, I believe you will see that we share the same goals. Together, we can confront the challenges facing our country and develop the necessary strategies to move forward. Our doors are open to all who are genuinely and positively committed to the progress of our nation.\n",
    "\n",
    "We require a Parliament that accurately reflects the will of the people. The existing Parliament does not represent that will. Therefore, I took the step yesterday to dissolve it. A cabinet was appointed in line with our parliamentary representation to guide the country in accordance with the constitution.\n",
    "There is one dream our people see every new day the sun rises.\n",
    "That is “tomorrow will be better than today!”\n",
    "However,\n",
    "You and I both learn for many years, this has remained merely a dream.\n",
    "Opportunism, the greed of power, and authoritarianism has hindered our country’s progress.\n",
    "But now we have our final opportunity which cannot be missed. Let us unite to create a thriving and beautiful country that embraces diversity.\n",
    "\"\"\""
   ]
  },
  {
   "cell_type": "code",
   "execution_count": 5,
   "metadata": {},
   "outputs": [
    {
     "data": {
      "text/plain": [
       "'\\nEsteemed Maha Sangha and Religious Leaders, Parents, Brothers, Sisters and Children;\\n\\nI extend my heartfelt gratitude to all the people of this country who have listened to our voices over the decades and breathed life into the programs we proposed.\\nWe believe that the victory you have given us will be even more strengthened if it brings joy to those who may not have agreed with our vision. Therefore, I want to dedicate this victory to all citizens of our nation.\\n\\n \\n\\nWe honour and remember the courageous men and women of previous generations who made sacrifices, some with their lives, for this victory. I see this victory and the prosperous nation we aim to build as a tribute to their legacy.\\n\\nWe believe that all people, including those who trusted us despite slander, falsehoods, and misinformation, and elected our political movement with great determination have the strength to shoulder the responsibility of building this nation together.\\n\\nWe are capable of fulfilling this role as a united team, and we have a talented team dedicated to this mission. Our determination is unwavering.\\n\\nThe change we seek involves many steps that will take time. However, achieving stability and confidence in the current economy is crucial. We plan to begin negotiations with the International Monetary Fund immediately and proceed with activities related to the extended credit facility. Additionally, to advance our debt restructuring program, we are negotiating with relevant creditors to expedite the process and secure necessary debt relief. We are confident that we can gain the support of both the people of this country and the international community, and we believe that through this collective support, we can achieve success.\\n\\nA key concept that resonates with the public is our commitment to making a “difference.” One of the primary changes citizens expect is to eliminate the negative traits in our political culture. Our track record thus far supports this commitment. Notably, we succeeded in making the presidential election the only one in Sri Lanka without reports of post-election violence, which reflects the trust the people have placed in us. Our aim is to confirm and stabilize this positive situation.\\n\\n \\n\\nAt this moment, I want to highlight the importance of engaging in politics with a collective focus on building our country. We are committed to providing that leadership.\\nRegardless of whether one identifies as Sinhalese, Tamil, Muslim, Burgher, or Malay, our nation will not thrive until we create a practical environment where everyone can proudly say, “We are Sri Lankan citizens.” We will not hesitate to implement the necessary constitutional, economic, and political reforms.\\n\\nWe are launching a permanent program to build a unified Sri Lankan nation that respects diversity, fully ending the era of division based on race, religion, class, and caste.\\nWe have already taken significant steps to appoint efficient and honest officials to oversee these initiatives. We are advancing steadily toward the desired changes, ensuring that public service remains intact and citizens are not adversely affected.\\n\\nWe are committed to creating a law-abiding nation and fostering a disciplined society while ensuring the social security of all citizens. This revives the principle that everyone is equal before the law.\\n\\nWe believe that public service plays a crucial role in nation-building. To that end, we will establish a public service that instills pride in the community and aligns with the government’s goals. Our commitment is to create an efficient, honest, and people-focused public service.\\n\\nOur goal is to improve the standard of living for the people of this country. We are implementing practical programs to alleviate the heavy burdens faced by our citizens.\\nNo parent in this country should have to worry about their child’s future. Every parent deserves the right to provide their child with access to quality schools and education. We are fully committed to securing the future of the next generation by ensuring excellent education for all children. By fostering knowledge, attitudes, and skills, we are building a promising future for the young generation of our country.\\n\\nWhen we visit a country, the airport often offers a first impression, reflecting its order, the behaviour of its people, their work ethic, and cultural practices.\\n\\nIt also reveals the country’s cleanliness, how vehicles are driven, how the elderly are treated, the hospitality shown, and even how animals are cared for. We have developed clear plans to enhance Sri Lanka’s image in these areas, with short-term, medium-term, and long-term initiatives already underway.\\n\\nOur goal is to create a nation where the world respects our passport, and where every citizen can proudly say, “I am a Sri Lankan.” We aim to build a country where citizenship is a source of pride for all. Achieving this vision will require the collective effort of every citizen.\\n\\nWe are committed to creating a system that upholds social justice for all, and we will do so with the highest sense of responsibility.\\n\\nWe are building a secure future for our children and youth through a program that promotes knowledge, skills, education, and entrepreneurship.\\n\\nThe women in our community, who make up over 52% of our population, play a vital role in both the economy and the social fabric of our country. We are actively working to enhance women’s representation across all institutions. As a testament to our commitment, we have already appointed a woman as Prime Minister.\\n\\nA significant portion of our population consists of individuals with disabilities who require special social protection. To support this group, we have proposed a robust social safety net and are implementing short-term measures to address their needs.\\n\\nWe ensure that no group within our society is overlooked on our journey forward. By respecting each other’s identities and harnessing them positively for the country’s progress, we make our collective contribution.\\n\\nWe hold a strong belief in the sovereignty of the people and are committed to safeguarding their democratic rights.\\n\\nI understand that some may feel uncertain due to doubts about us, but I am determined to earn your trust through my actions. I welcome your constructive criticism and encourage you to join us in building the future together. If we can set aside our differences, I believe you will see that we share the same goals. Together, we can confront the challenges facing our country and develop the necessary strategies to move forward. Our doors are open to all who are genuinely and positively committed to the progress of our nation.\\n\\nWe require a Parliament that accurately reflects the will of the people. The existing Parliament does not represent that will. Therefore, I took the step yesterday to dissolve it. A cabinet was appointed in line with our parliamentary representation to guide the country in accordance with the constitution.\\nThere is one dream our people see every new day the sun rises.\\nThat is “tomorrow will be better than today!”\\nHowever,\\nYou and I both learn for many years, this has remained merely a dream.\\nOpportunism, the greed of power, and authoritarianism has hindered our country’s progress.\\nBut now we have our final opportunity which cannot be missed. Let us unite to create a thriving and beautiful country that embraces diversity.\\n'"
      ]
     },
     "execution_count": 5,
     "metadata": {},
     "output_type": "execute_result"
    }
   ],
   "source": [
    "speech"
   ]
  },
  {
   "cell_type": "code",
   "execution_count": 8,
   "metadata": {},
   "outputs": [],
   "source": [
    "chat_message=[\n",
    "    SystemMessage(content=\"You are a expert with expertise in Text summarization\"),\n",
    "    HumanMessage(content=f\"Please provide a short and concise summary of the following speech:\\n Text:{speech}\")\n",
    "]"
   ]
  },
  {
   "cell_type": "code",
   "execution_count": 9,
   "metadata": {},
   "outputs": [
    {
     "data": {
      "text/plain": [
       "1474"
      ]
     },
     "execution_count": 9,
     "metadata": {},
     "output_type": "execute_result"
    }
   ],
   "source": [
    "llm.get_num_tokens(speech)"
   ]
  },
  {
   "cell_type": "code",
   "execution_count": 11,
   "metadata": {},
   "outputs": [
    {
     "data": {
      "text/plain": [
       "\"**Summary:**\\n\\nThe speech emphasizes the importance of unity, national pride, and social justice in building a prosperous and inclusive Sri Lanka. The speaker highlights their commitment to:\\n\\n- Negotiating with the IMF and restructuring debt.\\n- Promoting unity and eliminating divisions based on race, religion, and social status.\\n- Enhancing public service and creating a law-abiding nation.\\n- Improving the standard of living and ensuring quality education for all.\\n- Promoting Sri Lanka's image globally.\\n- Upholding social justice and protecting the rights of marginalized groups.\\n- Implementing measures to support people with disabilities.\\n- Dissolving the existing Parliament and forming a new one to better represent the people's will.\\n- Inspiring unity and hope for a better future.\""
      ]
     },
     "execution_count": 11,
     "metadata": {},
     "output_type": "execute_result"
    }
   ],
   "source": [
    "## Getting the summary\n",
    "llm(chat_message).content"
   ]
  },
  {
   "cell_type": "markdown",
   "metadata": {},
   "source": [
    "#### Prompt template text summarization"
   ]
  },
  {
   "cell_type": "code",
   "execution_count": 17,
   "metadata": {},
   "outputs": [
    {
     "data": {
      "text/plain": [
       "PromptTemplate(input_variables=['language', 'speech'], input_types={}, partial_variables={}, template='\\nWrite a summary of the following speech:\\nSpeech:{speech}\\nTranslate the precise summary to {language}\\n')"
      ]
     },
     "execution_count": 17,
     "metadata": {},
     "output_type": "execute_result"
    }
   ],
   "source": [
    "from langchain.chains import LLMChain\n",
    "from langchain import PromptTemplate\n",
    "\n",
    "generictemplate=\"\"\"\n",
    "Write a summary of the following speech:\n",
    "Speech:{speech}\n",
    "Translate the precise summary to {language}\n",
    "\"\"\"\n",
    "\n",
    "prompt=PromptTemplate(\n",
    "    input_variables=[\"speech\",\"language\"],\n",
    "    template=generictemplate\n",
    ")\n",
    "\n",
    "prompt"
   ]
  },
  {
   "cell_type": "code",
   "execution_count": 25,
   "metadata": {},
   "outputs": [
    {
     "data": {
      "text/plain": [
       "'\\nWrite a summary of the following speech:\\nSpeech:\\nEsteemed Maha Sangha and Religious Leaders, Parents, Brothers, Sisters and Children;\\n\\nI extend my heartfelt gratitude to all the people of this country who have listened to our voices over the decades and breathed life into the programs we proposed.\\nWe believe that the victory you have given us will be even more strengthened if it brings joy to those who may not have agreed with our vision. Therefore, I want to dedicate this victory to all citizens of our nation.\\n\\n \\n\\nWe honour and remember the courageous men and women of previous generations who made sacrifices, some with their lives, for this victory. I see this victory and the prosperous nation we aim to build as a tribute to their legacy.\\n\\nWe believe that all people, including those who trusted us despite slander, falsehoods, and misinformation, and elected our political movement with great determination have the strength to shoulder the responsibility of building this nation together.\\n\\nWe are capable of fulfilling this role as a united team, and we have a talented team dedicated to this mission. Our determination is unwavering.\\n\\nThe change we seek involves many steps that will take time. However, achieving stability and confidence in the current economy is crucial. We plan to begin negotiations with the International Monetary Fund immediately and proceed with activities related to the extended credit facility. Additionally, to advance our debt restructuring program, we are negotiating with relevant creditors to expedite the process and secure necessary debt relief. We are confident that we can gain the support of both the people of this country and the international community, and we believe that through this collective support, we can achieve success.\\n\\nA key concept that resonates with the public is our commitment to making a “difference.” One of the primary changes citizens expect is to eliminate the negative traits in our political culture. Our track record thus far supports this commitment. Notably, we succeeded in making the presidential election the only one in Sri Lanka without reports of post-election violence, which reflects the trust the people have placed in us. Our aim is to confirm and stabilize this positive situation.\\n\\n \\n\\nAt this moment, I want to highlight the importance of engaging in politics with a collective focus on building our country. We are committed to providing that leadership.\\nRegardless of whether one identifies as Sinhalese, Tamil, Muslim, Burgher, or Malay, our nation will not thrive until we create a practical environment where everyone can proudly say, “We are Sri Lankan citizens.” We will not hesitate to implement the necessary constitutional, economic, and political reforms.\\n\\nWe are launching a permanent program to build a unified Sri Lankan nation that respects diversity, fully ending the era of division based on race, religion, class, and caste.\\nWe have already taken significant steps to appoint efficient and honest officials to oversee these initiatives. We are advancing steadily toward the desired changes, ensuring that public service remains intact and citizens are not adversely affected.\\n\\nWe are committed to creating a law-abiding nation and fostering a disciplined society while ensuring the social security of all citizens. This revives the principle that everyone is equal before the law.\\n\\nWe believe that public service plays a crucial role in nation-building. To that end, we will establish a public service that instills pride in the community and aligns with the government’s goals. Our commitment is to create an efficient, honest, and people-focused public service.\\n\\nOur goal is to improve the standard of living for the people of this country. We are implementing practical programs to alleviate the heavy burdens faced by our citizens.\\nNo parent in this country should have to worry about their child’s future. Every parent deserves the right to provide their child with access to quality schools and education. We are fully committed to securing the future of the next generation by ensuring excellent education for all children. By fostering knowledge, attitudes, and skills, we are building a promising future for the young generation of our country.\\n\\nWhen we visit a country, the airport often offers a first impression, reflecting its order, the behaviour of its people, their work ethic, and cultural practices.\\n\\nIt also reveals the country’s cleanliness, how vehicles are driven, how the elderly are treated, the hospitality shown, and even how animals are cared for. We have developed clear plans to enhance Sri Lanka’s image in these areas, with short-term, medium-term, and long-term initiatives already underway.\\n\\nOur goal is to create a nation where the world respects our passport, and where every citizen can proudly say, “I am a Sri Lankan.” We aim to build a country where citizenship is a source of pride for all. Achieving this vision will require the collective effort of every citizen.\\n\\nWe are committed to creating a system that upholds social justice for all, and we will do so with the highest sense of responsibility.\\n\\nWe are building a secure future for our children and youth through a program that promotes knowledge, skills, education, and entrepreneurship.\\n\\nThe women in our community, who make up over 52% of our population, play a vital role in both the economy and the social fabric of our country. We are actively working to enhance women’s representation across all institutions. As a testament to our commitment, we have already appointed a woman as Prime Minister.\\n\\nA significant portion of our population consists of individuals with disabilities who require special social protection. To support this group, we have proposed a robust social safety net and are implementing short-term measures to address their needs.\\n\\nWe ensure that no group within our society is overlooked on our journey forward. By respecting each other’s identities and harnessing them positively for the country’s progress, we make our collective contribution.\\n\\nWe hold a strong belief in the sovereignty of the people and are committed to safeguarding their democratic rights.\\n\\nI understand that some may feel uncertain due to doubts about us, but I am determined to earn your trust through my actions. I welcome your constructive criticism and encourage you to join us in building the future together. If we can set aside our differences, I believe you will see that we share the same goals. Together, we can confront the challenges facing our country and develop the necessary strategies to move forward. Our doors are open to all who are genuinely and positively committed to the progress of our nation.\\n\\nWe require a Parliament that accurately reflects the will of the people. The existing Parliament does not represent that will. Therefore, I took the step yesterday to dissolve it. A cabinet was appointed in line with our parliamentary representation to guide the country in accordance with the constitution.\\nThere is one dream our people see every new day the sun rises.\\nThat is “tomorrow will be better than today!”\\nHowever,\\nYou and I both learn for many years, this has remained merely a dream.\\nOpportunism, the greed of power, and authoritarianism has hindered our country’s progress.\\nBut now we have our final opportunity which cannot be missed. Let us unite to create a thriving and beautiful country that embraces diversity.\\n\\nTranslate the precise summary to Sinhala\\n'"
      ]
     },
     "execution_count": 25,
     "metadata": {},
     "output_type": "execute_result"
    }
   ],
   "source": [
    "complete_prompt=prompt.format(speech=speech,language=\"Sinhala\")\n",
    "complete_prompt"
   ]
  },
  {
   "cell_type": "code",
   "execution_count": 26,
   "metadata": {},
   "outputs": [
    {
     "data": {
      "text/plain": [
       "1498"
      ]
     },
     "execution_count": 26,
     "metadata": {},
     "output_type": "execute_result"
    }
   ],
   "source": [
    "llm.get_num_tokens(complete_prompt)"
   ]
  },
  {
   "cell_type": "code",
   "execution_count": 27,
   "metadata": {},
   "outputs": [
    {
     "data": {
      "text/plain": [
       "'**සිලංකයේ නව පාලිතය**\\n\\nමිහිමා සංගහාව සහගී ආගම Leaders, 부රුන්, සහෝවන් සහායන්;\\n\\nමට මෙම නව පාලිතයේ ජයට සහභාවය දරවනුයි. මෙය මට මෙම කරුණුවල ජයට යමෙන් යුතුවනුයි. මෙම ජයය හා අපේ සිලංකය ගොඩගැනීමට අවමේකය.\\n\\nමෙම ජයයට පෙරදී ගිය අවස්ථාවලුවලට මට ඉතිහාසයෙන් සහභාවය දරවනුයි. මට මෙම කරුණුවල ජයට යමෙන් යුතුවනුයි.\\n\\nමෙම ජයයට අවමේකය ගොඩගැනීමට අපේ සමාජය හා අවස්ථාවලට අවලංගනය ලබාගනුයි. මෙම කරුණුවල ජයට යමෙන් යුතුවනුයි.\\n\\nමෙම ජයයට අවමේකය ගොඩගැනීමට අපේ සමාජය හා අවස්ථාවලට අවලංගනය ලබාගනුයි. මෙම කරුණුවල ජයට යමෙන් යුතුවනුයි.'"
      ]
     },
     "execution_count": 27,
     "metadata": {},
     "output_type": "execute_result"
    }
   ],
   "source": [
    "llm_chain=LLMChain(llm=llm,prompt=prompt)\n",
    "summary=llm_chain.run({\"speech\":speech,\"language\":\"Sinhala\"})\n",
    "summary"
   ]
  },
  {
   "cell_type": "markdown",
   "metadata": {},
   "source": [
    "#### StuffDocumentChain Text summarization"
   ]
  },
  {
   "cell_type": "code",
   "execution_count": null,
   "metadata": {},
   "outputs": [],
   "source": []
  }
 ],
 "metadata": {
  "kernelspec": {
   "display_name": "Python 3",
   "language": "python",
   "name": "python3"
  },
  "language_info": {
   "codemirror_mode": {
    "name": "ipython",
    "version": 3
   },
   "file_extension": ".py",
   "mimetype": "text/x-python",
   "name": "python",
   "nbconvert_exporter": "python",
   "pygments_lexer": "ipython3",
   "version": "3.10.0"
  }
 },
 "nbformat": 4,
 "nbformat_minor": 2
}
